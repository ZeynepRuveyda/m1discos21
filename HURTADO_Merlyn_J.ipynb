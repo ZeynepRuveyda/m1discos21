{
 "cells": [
  {
   "cell_type": "code",
   "execution_count": 4,
   "id": "d6767ae0-4706-429d-9063-7aa690dc1e9b",
   "metadata": {},
   "outputs": [
    {
     "name": "stdout",
     "output_type": "stream",
     "text": [
      "Hola! I am Merlyn J. Hurtado\n"
     ]
    }
   ],
   "source": [
    "print (\"Hola! I am Merlyn J. Hurtado\")"
   ]
  },
  {
   "cell_type": "code",
   "execution_count": null,
   "id": "90b7e444-fb4e-47ab-8426-301cae2e847b",
   "metadata": {},
   "outputs": [],
   "source": []
  }
 ],
 "metadata": {
  "kernelspec": {
   "display_name": "Python (streamlit_f_index)",
   "language": "python",
   "name": "streamlit_f_index"
  },
  "language_info": {
   "codemirror_mode": {
    "name": "ipython",
    "version": 3
   },
   "file_extension": ".py",
   "mimetype": "text/x-python",
   "name": "python",
   "nbconvert_exporter": "python",
   "pygments_lexer": "ipython3",
   "version": "3.8.5"
  }
 },
 "nbformat": 4,
 "nbformat_minor": 5
}
